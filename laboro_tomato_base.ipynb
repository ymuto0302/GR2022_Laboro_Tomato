{
 "cells": [
  {
   "cell_type": "markdown",
   "id": "447d04df",
   "metadata": {},
   "source": [
    "# 小林里梨香さん・村田さんの卒研：トマトの成熟度の判別\n",
    "農業トマトの画像物体検出用データセット『Laboro Tomato』\n",
    "\n",
    "概要 (日本語):  \n",
    "https://laboro.ai/activity/column/engineer/laboro-tomato/\n",
    "\n",
    "詳細 (英語):  \n",
    "https://github.com/laboroai/LaboroTomato?_fsi=2ONcfTup&_fsi=2ONcfTup"
   ]
  },
  {
   "cell_type": "code",
   "execution_count": 24,
   "id": "b8f60ff8",
   "metadata": {
    "scrolled": true
   },
   "outputs": [
    {
     "data": {
      "text/html": [
       "<div>\n",
       "<style scoped>\n",
       "    .dataframe tbody tr th:only-of-type {\n",
       "        vertical-align: middle;\n",
       "    }\n",
       "\n",
       "    .dataframe tbody tr th {\n",
       "        vertical-align: top;\n",
       "    }\n",
       "\n",
       "    .dataframe thead th {\n",
       "        text-align: right;\n",
       "    }\n",
       "</style>\n",
       "<table border=\"1\" class=\"dataframe\">\n",
       "  <thead>\n",
       "    <tr style=\"text-align: right;\">\n",
       "      <th></th>\n",
       "      <th>image_filename</th>\n",
       "      <th>class</th>\n",
       "    </tr>\n",
       "  </thead>\n",
       "  <tbody>\n",
       "    <tr>\n",
       "      <th>0</th>\n",
       "      <td>IMG_20191215_111114-1.jpg</td>\n",
       "      <td>2</td>\n",
       "    </tr>\n",
       "    <tr>\n",
       "      <th>1</th>\n",
       "      <td>IMG_20191215_111114-2.jpg</td>\n",
       "      <td>1</td>\n",
       "    </tr>\n",
       "    <tr>\n",
       "      <th>2</th>\n",
       "      <td>IMG_20191215_111114-3.jpg</td>\n",
       "      <td>2</td>\n",
       "    </tr>\n",
       "    <tr>\n",
       "      <th>3</th>\n",
       "      <td>IMG_20191215_111114-4.jpg</td>\n",
       "      <td>0</td>\n",
       "    </tr>\n",
       "    <tr>\n",
       "      <th>4</th>\n",
       "      <td>IMG_20191215_111114-5.jpg</td>\n",
       "      <td>1</td>\n",
       "    </tr>\n",
       "    <tr>\n",
       "      <th>...</th>\n",
       "      <td>...</td>\n",
       "      <td>...</td>\n",
       "    </tr>\n",
       "    <tr>\n",
       "      <th>2202</th>\n",
       "      <td>IMG_20191215_111751-5.jpg</td>\n",
       "      <td>2</td>\n",
       "    </tr>\n",
       "    <tr>\n",
       "      <th>2203</th>\n",
       "      <td>IMG_20191215_111751-6.jpg</td>\n",
       "      <td>2</td>\n",
       "    </tr>\n",
       "    <tr>\n",
       "      <th>2204</th>\n",
       "      <td>IMG_20191215_111751-7.jpg</td>\n",
       "      <td>2</td>\n",
       "    </tr>\n",
       "    <tr>\n",
       "      <th>2205</th>\n",
       "      <td>IMG_20191215_111751-8.jpg</td>\n",
       "      <td>2</td>\n",
       "    </tr>\n",
       "    <tr>\n",
       "      <th>2206</th>\n",
       "      <td>IMG_20191215_111751-9.jpg</td>\n",
       "      <td>2</td>\n",
       "    </tr>\n",
       "  </tbody>\n",
       "</table>\n",
       "<p>2207 rows × 2 columns</p>\n",
       "</div>"
      ],
      "text/plain": [
       "                 image_filename  class\n",
       "0     IMG_20191215_111114-1.jpg      2\n",
       "1     IMG_20191215_111114-2.jpg      1\n",
       "2     IMG_20191215_111114-3.jpg      2\n",
       "3     IMG_20191215_111114-4.jpg      0\n",
       "4     IMG_20191215_111114-5.jpg      1\n",
       "...                         ...    ...\n",
       "2202  IMG_20191215_111751-5.jpg      2\n",
       "2203  IMG_20191215_111751-6.jpg      2\n",
       "2204  IMG_20191215_111751-7.jpg      2\n",
       "2205  IMG_20191215_111751-8.jpg      2\n",
       "2206  IMG_20191215_111751-9.jpg      2\n",
       "\n",
       "[2207 rows x 2 columns]"
      ]
     },
     "execution_count": 24,
     "metadata": {},
     "output_type": "execute_result"
    }
   ],
   "source": [
    "# Bounding box 情報を利用して切り出したトマト画像の一覧を得る\n",
    "parent_dir = \"Cropped_Big/\"\n",
    "\n",
    "import pandas as pd\n",
    "df = pd.read_csv(parent_dir + \"train/tomato_big_annotation.txt\", header=None, delimiter='\\t')\n",
    "df.columns = ['image_filename', \"class\"]\n",
    "\n",
    "# クラス番号が 1 から始まっている(1〜3)ため，これを 0 オリジン(0〜2)へ書き換える\n",
    "df['class'] = df['class'] - 1\n",
    "\n",
    "df"
   ]
  },
  {
   "cell_type": "code",
   "execution_count": 25,
   "id": "7687ba86",
   "metadata": {},
   "outputs": [
    {
     "data": {
      "text/plain": [
       "2207"
      ]
     },
     "execution_count": 25,
     "metadata": {},
     "output_type": "execute_result"
    }
   ],
   "source": [
    "# 画像数 → 2207枚\n",
    "len(df)"
   ]
  },
  {
   "cell_type": "code",
   "execution_count": 4,
   "id": "2e6f7a53",
   "metadata": {
    "scrolled": false
   },
   "outputs": [],
   "source": [
    "# データセットを作る\n",
    "\n",
    "# 画像のファイル名(正確にはパス名)\n",
    "X = (parent_dir + \"train/\" + df['image_filename']).tolist()\n",
    "\n",
    "# クラス(完熟，半熟，緑熟)\n",
    "y = df['class'].tolist()"
   ]
  },
  {
   "cell_type": "code",
   "execution_count": 5,
   "id": "10e7a28c",
   "metadata": {},
   "outputs": [
    {
     "name": "stdout",
     "output_type": "stream",
     "text": [
      "['Cropped_Big/train/IMG_20191215_111114-1.jpg', 'Cropped_Big/train/IMG_20191215_111114-2.jpg', 'Cropped_Big/train/IMG_20191215_111114-3.jpg', 'Cropped_Big/train/IMG_20191215_111114-4.jpg', 'Cropped_Big/train/IMG_20191215_111114-5.jpg']\n"
     ]
    }
   ],
   "source": [
    "# (参考) X はこんな感じ\n",
    "print(X[:5])"
   ]
  },
  {
   "cell_type": "code",
   "execution_count": 6,
   "id": "599646be",
   "metadata": {},
   "outputs": [
    {
     "name": "stdout",
     "output_type": "stream",
     "text": [
      "[2, 1, 2, 0, 1]\n"
     ]
    }
   ],
   "source": [
    "# (参考) y はこんな感じ\n",
    "print(y[:5])"
   ]
  },
  {
   "cell_type": "code",
   "execution_count": 26,
   "id": "753781f9",
   "metadata": {},
   "outputs": [
    {
     "data": {
      "image/png": "[encoded data removed]",
      "text/plain": [
       "<Figure size 640x480 with 5 Axes>"
      ]
     },
     "metadata": {},
     "output_type": "display_data"
    }
   ],
   "source": [
    "# (確認) データの先頭の画像を表示\n",
    "from PIL import Image, ImageDraw\n",
    "import matplotlib.pyplot as plt\n",
    "\n",
    "fig = plt.figure()\n",
    "for idx in range(5):\n",
    "    image_filename = X[idx]\n",
    "    class_number = y[idx] ##### (メモ) 使っていない変数\n",
    "    \n",
    "    img = Image.open(image_filename)\n",
    "    \n",
    "    # print(idx)\n",
    "    fig.add_subplot(1, 5, idx+1)\n",
    "    plt.imshow(img)\n",
    "    \n",
    "    # 軸ラベル，補助線を消す\n",
    "    plt.tick_params(labelbottom=False, labelleft=False, labelright=False, labeltop=False, bottom=False, left=False, right=False, top=False)\n",
    "    # plt.legend()\n",
    "    \n",
    "    img.close()\n",
    "plt.show()"
   ]
  },
  {
   "cell_type": "code",
   "execution_count": 8,
   "id": "7132297b",
   "metadata": {
    "scrolled": true
   },
   "outputs": [
    {
     "name": "stdout",
     "output_type": "stream",
     "text": [
      "{(819, 826), (218, 191), (736, 791), (622, 577), (1101, 1069), (193, 283), (199, 214), (382, 335), (1412, 1641), (861, 827), (312, 356), (732, 713), (205, 230), (224, 243), (652, 690), (494, 512), (308, 242), (501, 557), (492, 588), (607, 538), (374, 452), (474, 539), (286, 339), (287, 304), (518, 582), (190, 142), (529, 511), (459, 532), (211, 201), (157, 230), (244, 198), (110, 118), (528, 631), (494, 489), (441, 483), (646, 623), (244, 234), (256, 208), (861, 696), (738, 742), (344, 586), (365, 380), (258, 254), (350, 337), (427, 211), (997, 858), (221, 228), (184, 197), (558, 487), (905, 860), (453, 205), (350, 458), (243, 246), (663, 689), (217, 194), (90, 153), (284, 284), (93, 307), (334, 370), (254, 261), (1228, 1141), (357, 353), (409, 400), (195, 211), (127, 156), (974, 995), (861, 938), (534, 580), (147, 134), (565, 647), (207, 185), (1067, 1043), (198, 216), (264, 310), (610, 655), (117, 148), (172, 163), (1100, 1076), (272, 287), (291, 300), (372, 374), (472, 461), (224, 210), (204, 152), (483, 470), (956, 919), (295, 270), (148, 220), (347, 466), (155, 116), (838, 783), (416, 416), (1203, 1061), (214, 201), (446, 444), (329, 533), (783, 703), (168, 170), (1116, 912), (602, 548), (1101, 1049), (521, 474), (368, 381), (793, 753), (266, 333), (439, 441), (150, 158), (323, 229), (609, 443), (892, 911), (424, 397), (811, 806), (715, 689), (254, 480), (605, 594), (704, 716), (1048, 1020), (319, 316), (198, 206), (65, 91), (629, 658), (257, 261), (641, 632), (221, 195), (320, 317), (372, 364), (723, 707), (254, 228), (761, 553), (1030, 1123), (516, 493), (282, 326), (642, 489), (1249, 1167), (682, 525), (851, 748), (683, 755), (1141, 1304), (658, 698), (491, 441), (563, 546), (483, 437), (696, 581), (147, 222), (153, 153), (425, 352), (290, 307), (482, 477), (293, 312), (194, 190), (244, 276), (895, 911), (108, 123), (670, 649), (1001, 1014), (539, 611), (1152, 1103), (517, 592), (163, 180), (182, 193), (342, 331), (599, 481), (1085, 1049), (252, 257), (585, 583), (676, 850), (562, 599), (607, 750), (312, 424), (912, 977), (296, 336), (157, 141), (229, 246), (280, 477), (185, 239), (258, 309), (71, 74), (337, 373), (90, 87), (329, 369), (714, 854), (1120, 1127), (522, 275), (565, 316), (271, 284), (222, 242), (615, 582), (502, 525), (215, 203), (314, 325), (402, 209), (214, 243), (444, 476), (318, 337), (488, 519), (259, 287), (850, 871), (663, 636), (451, 457), (263, 257), (529, 556), (732, 735), (606, 596), (490, 564), (865, 856), (537, 496), (156, 130), (161, 245), (608, 556), (227, 190), (154, 206), (145, 157), (1592, 1449), (496, 500), (536, 536), (702, 834), (352, 306), (298, 335), (277, 312), (190, 164), (322, 320), (656, 574), (140, 163), (171, 416), (758, 850), (612, 567), (389, 495), (642, 675), (382, 370), (788, 500), (352, 427), (567, 501), (224, 278), (305, 352), (226, 208), (276, 474), (829, 766), (186, 171), (993, 874), (329, 336), (716, 745), (482, 578), (968, 817), (398, 435), (171, 164), (630, 678), (343, 356), (228, 289), (1062, 1009), (521, 542), (280, 336), (1209, 1028), (403, 406), (342, 396), (874, 894), (506, 498), (860, 767), (537, 751), (460, 388), (243, 124), (269, 262), (869, 852), (496, 490), (229, 226), (509, 280), (1234, 1322), (643, 509), (345, 437), (412, 347), (518, 594), (450, 459), (628, 874), (109, 166), (529, 523), (175, 111), (121, 140), (133, 114), (151, 162), (1107, 994), (918, 829), (211, 213), (169, 445), (889, 951), (462, 469), (643, 630), (896, 810), (587, 729), (941, 961), (253, 295), (217, 229), (425, 407), (745, 677), (790, 648), (514, 601), (473, 334), (198, 215), (366, 357), (277, 279), (557, 562), (690, 597), (984, 815), (481, 423), (701, 692), (140, 130), (198, 251), (240, 217), (291, 299), (197, 255), (262, 272), (807, 709), (770, 827), (393, 468), (206, 196), (110, 408), (158, 156), (603, 686), (511, 423), (382, 458), (679, 681), (705, 819), (239, 229), (291, 276), (170, 166), (696, 590), (919, 784), (583, 569), (929, 977), (1334, 1291), (452, 494), (57, 230), (604, 628), (322, 421), (696, 711), (176, 187), (158, 169), (406, 383), (455, 950), (258, 256), (228, 233), (239, 242), (280, 280), (687, 518), (593, 511), (391, 376), (465, 325), (154, 140), (126, 221), (393, 422), (313, 313), (1132, 1170), (265, 236), (750, 839), (405, 396), (802, 886), (524, 496), (317, 283), (476, 456), (254, 263), (166, 150), (738, 721), (266, 237), (858, 786), (776, 833), (314, 393), (815, 824), (421, 376), (1200, 1160), (385, 453), (660, 658), (319, 328), (298, 305), (683, 790), (412, 412), (205, 199), (377, 454), (921, 963), (359, 522), (652, 695), (903, 914), (229, 183), (135, 139), (127, 135), (378, 391), (537, 564), (797, 789), (844, 721), (581, 756), (220, 219), (293, 203), (238, 273), (170, 218), (648, 516), (734, 705), (321, 307), (265, 226), (690, 927), (516, 482), (462, 282), (488, 420), (334, 362), (826, 824), (106, 89), (439, 564), (394, 376), (240, 318), (167, 105), (903, 927), (509, 479), (732, 636), (149, 172), (249, 259), (467, 747), (153, 142), (401, 393), (986, 1083), (253, 229), (364, 325), (242, 256), (194, 179), (694, 645), (100, 172), (354, 317), (426, 422), (385, 384), (584, 630), (1018, 971), (402, 473), (143, 133), (323, 329), (275, 289), (489, 398), (626, 632), (545, 378), (268, 249), (974, 1049), (474, 354), (371, 378), (670, 674), (910, 921), (249, 272), (873, 890), (200, 236), (692, 698), (946, 843), (425, 354), (290, 309), (482, 479), (384, 1750), (393, 258), (378, 358), (644, 657), (310, 223), (166, 215), (558, 590), (371, 355), (168, 404), (209, 213), (333, 328), (665, 572), (211, 222), (743, 757), (550, 591), (981, 814), (852, 929), (813, 821), (467, 184), (1125, 678), (661, 723), (447, 471), (287, 253), (179, 162), (185, 205), (772, 676), (137, 165), (570, 541), (229, 248), (436, 461), (208, 225), (756, 588), (79, 80), (269, 320), (706, 852), (1632, 1655), (403, 405), (175, 169), (400, 516), (367, 339), (379, 313), (802, 941), (336, 351), (629, 604), (468, 507), (467, 462), (606, 477), (178, 179), (1020, 1019), (462, 203), (298, 360), (354, 261), (791, 787), (291, 321), (220, 297), (132, 184), (232, 271), (625, 611), (423, 476), (696, 671), (594, 623), (848, 805), (627, 657), (547, 548), (798, 804), (783, 904), (236, 277), (168, 142), (291, 478), (259, 266), (663, 615), (290, 253), (981, 1190), (151, 174), (420, 219), (255, 268), (1459, 1344), (518, 498), (726, 676), (280, 181), (127, 347), (316, 283), (889, 1048), (465, 491), (377, 378), (270, 252), (289, 265), (628, 634), (615, 515), (151, 151), (184, 185), (832, 549), (203, 198), (649, 693), (656, 589), (721, 718), (793, 823), (371, 456), (346, 283), (1061, 1168), (285, 272), (217, 254), (238, 197), (905, 740), (329, 315), (348, 328), (322, 276), (1021, 951), (207, 209), (306, 331), (351, 339), (343, 335), (763, 692), (627, 768), (881, 913), (454, 431), (132, 151), (331, 360), (1111, 1146), (392, 376), (423, 443), (303, 298), (635, 628), (541, 584), (627, 624), (453, 471), (575, 613), (419, 365), (397, 692), (918, 952), (972, 1072), (170, 155), (1197, 1190), (629, 669), (848, 893), (207, 451), (367, 440), (721, 672), (185, 283), (709, 289), (191, 214), (604, 532), (284, 262), (730, 757), (334, 528), (562, 535), (895, 824), (549, 416), (1111, 1388), (324, 334), (244, 225), (243, 260), (896, 1054), (674, 712), (364, 406), (536, 747), (502, 605), (323, 374), (307, 366), (1066, 1321), (887, 861), (200, 160), (534, 450), (531, 561), (744, 668), (297, 214), (412, 460), (405, 421), (1096, 1092), (1097, 1057), (474, 520), (394, 411), (625, 689), (105, 165), (423, 325), (222, 155), (653, 607), (211, 182), (764, 740), (1144, 1110), (736, 641), (499, 585), (572, 575), (703, 729), (435, 420), (522, 574), (414, 483), (334, 374), (1221, 1249), (434, 461), (526, 544), (212, 268), (409, 404), (275, 324), (375, 411), (251, 461), (1184, 1303), (585, 486), (362, 557), (163, 119), (454, 411), (534, 669), (438, 552), (364, 337), (234, 264), (487, 444), (1015, 978), (588, 496), (405, 411), (750, 674), (650, 736), (554, 619), (921, 821), (779, 737), (979, 911), (538, 531), (475, 591), (129, 103), (308, 334), (220, 221), (460, 468), (445, 339), (1196, 1290), (696, 595), (642, 624), (763, 734), (494, 460), (227, 345), (1116, 1037), (215, 227), (275, 278), (276, 243), (385, 409), (707, 609), (765, 550), (804, 807), (376, 446), (449, 430), (128, 115), (467, 484), (712, 660), (339, 298), (618, 653), (390, 380), (337, 374), (631, 592), (356, 387), (443, 392), (707, 730), (312, 317), (145, 289), (863, 834), (575, 547), (667, 630), (820, 872), (539, 481), (252, 271), (283, 295), (187, 178), (157, 155), (89, 100), (388, 433), (268, 251), (265, 362), (339, 311), (70, 123), (858, 876), (424, 355), (454, 234), (552, 540), (210, 282), (202, 427), (726, 698), (1154, 1404), (1023, 921), (337, 364), (229, 273), (776, 671), (342, 299), (694, 601), (333, 330), (173, 112), (652, 641), (458, 510), (490, 542), (1002, 1019), (363, 358), (80, 149), (560, 643), (250, 188), (319, 287), (285, 294), (308, 314), (241, 224), (408, 401), (360, 324), (485, 621), (398, 436), (377, 413), (469, 496), (182, 174), (476, 392), (274, 257), (568, 475), (294, 235), (252, 238), (215, 207), (534, 518), (813, 836), (665, 672), (472, 543), (698, 706), (218, 132), (324, 379), (364, 415), (304, 321), (695, 700), (246, 316), (465, 503), (138, 145), (177, 216), (250, 286), (171, 142), (229, 263), (120, 356), (203, 210), (469, 509), (1023, 1032), (362, 383), (957, 821), (525, 526), (332, 360), (269, 420), (376, 403), (682, 738), (503, 507), (256, 221), (341, 445), (174, 188), (512, 592), (167, 149), (806, 810), (568, 609), (554, 445), (347, 381), (992, 936), (879, 879), (92, 91), (1040, 833), (200, 182), (218, 230), (529, 537), (363, 325), (1043, 987), (562, 534), (880, 880), (519, 343), (416, 596), (369, 255), (547, 527), (826, 845), (237, 221), (683, 716), (126, 124), (1066, 1091), (365, 406), (159, 158), (1248, 610), (189, 180), (470, 428), (628, 636), (202, 119), (234, 309), (307, 293), (756, 534), (155, 165), (493, 569), (266, 261), (500, 693), (712, 692), (92, 81), (218, 220), (838, 688), (743, 716), (888, 1183), (169, 184), (713, 693), (232, 240), (887, 729), (144, 127), (324, 323), (298, 185), (437, 529), (190, 243), (181, 194), (154, 177), (506, 479), (627, 397), (365, 360), (217, 233), (197, 138), (456, 398), (334, 409), (86, 307), (439, 431), (251, 231), (470, 418), (69, 74), (479, 912), (433, 387), (192, 181), (158, 39), (201, 266), (406, 518), (317, 297), (556, 579), (379, 537), (725, 765), (384, 472), (816, 803), (1315, 1390), (1540, 1508), (538, 566), (425, 509), (303, 254), (255, 214), (641, 658), (240, 234), (347, 446), (312, 339), (885, 875), (292, 281), (516, 663), (538, 422), (414, 472), (1235, 1173), (253, 289), (273, 267), (165, 176), (143, 157), (95, 117), (488, 457), (294, 326), (279, 283), (199, 174), (338, 369), (652, 565), (458, 434), (557, 556), (180, 197), (221, 198), (379, 406), (705, 656), (796, 694), (261, 270), (279, 404), (156, 333), (485, 280), (163, 229), (569, 651), (314, 361), (549, 264), (60, 136), (151, 483), (645, 646), (262, 207), (319, 332), (455, 113), (811, 943), (351, 321), (451, 408), (71, 123), (290, 310), (628, 714), (282, 306), (342, 357), (233, 450), (326, 349), (1026, 989), (530, 673), (989, 958), (715, 718), (473, 547), (441, 335), (1031, 960), (307, 371), (1117, 1228), (698, 607), (161, 173), (194, 170), (558, 712), (63, 132), (701, 797), (665, 694), (879, 803), (145, 170), (170, 343), (677, 705), (796, 805), (422, 564), (536, 320), (1172, 1321), (319, 322), (666, 695), (416, 520), (542, 745), (229, 285), (261, 237), (404, 402), (792, 776), (336, 267), (650, 692), (202, 187), (274, 292), (567, 694), (974, 932), (772, 834), (565, 584), (714, 484), (212, 237), (144, 182), (410, 481), (725, 722), (784, 808), (822, 920), (1076, 1065), (127, 129), (316, 294), (808, 756), (281, 187), (1221, 1303), (999, 961), (1059, 1012), (527, 248), (386, 245), (219, 217), (987, 1108), (514, 516), (203, 245), (411, 423), (222, 258), (667, 874), (216, 184), (195, 161), (761, 801), (530, 496), (156, 169), (216, 220), (506, 547), (507, 512), (508, 477), (238, 244), (697, 529), (723, 667), (609, 645), (290, 254), (342, 301), (754, 883), (179, 274), (211, 226), (935, 931), (294, 260), (693, 760), (286, 256), (365, 549), (785, 763), (256, 233), (816, 750), (407, 402), (414, 298), (359, 362), (354, 396), (245, 260), (912, 803), (157, 147), (616, 661), (584, 300), (241, 226), (508, 490), (620, 631), (361, 291), (640, 609), (251, 276), (242, 227), (381, 385), (332, 349), (1071, 1097), (243, 271), (410, 448), (303, 322), (557, 467), (509, 427), (81, 129), (637, 612), (417, 429), (1156, 1177), (616, 638), (329, 316), (436, 442), (214, 249), (786, 820), (527, 480), (445, 527), (158, 205), (752, 684), (182, 153), (394, 481), (481, 449), (234, 200), (932, 1059), (137, 267), (972, 952), (310, 338), (590, 621), (462, 472), (841, 877), (141, 157), (105, 320), (259, 378), (196, 209), (410, 281), (1036, 1009), (388, 379), (274, 128), (646, 674), (686, 710), (1080, 1015), (285, 286), (138, 124), (357, 391), (197, 173), (516, 564), (348, 342), (687, 711), (118, 145), (449, 510), (271, 244), (123, 80), (274, 249), (473, 458), (272, 325), (196, 186), (816, 717), (1314, 1339), (386, 575), (487, 478), (727, 725), (137, 136), (410, 523), (138, 101), (522, 621), (293, 383), (347, 360), (398, 405), (323, 411), (485, 181), (381, 352), (228, 259), (547, 650), (148, 150), (586, 641), (345, 286), (654, 1270), (594, 990), (403, 376), (742, 745), (162, 170), (420, 465), (467, 397), (592, 657), (256, 213), (635, 655), (382, 438), (195, 203), (247, 250), (585, 654), (258, 259), (1117, 1152), (178, 150), (238, 201), (218, 186), (477, 446), (601, 598), (728, 702), (401, 344), (427, 445), (1221, 1129), (199, 209), (272, 279), (210, 218), (383, 375), (1157, 1230), (634, 631), (173, 156), (512, 525), (184, 202), (202, 219), (194, 215), (445, 471), (285, 253), (397, 431), (644, 680), (343, 460), (409, 405), (755, 813), (227, 248), (306, 312), (1033, 906), (745, 768), (256, 311), (336, 191), (496, 558), (356, 169), (300, 125), (639, 723), (766, 827), (232, 219), (585, 523), (224, 215), (571, 588), (384, 353), (309, 359), (361, 369), (740, 774), (603, 656), (610, 552), (234, 530), (135, 142), (264, 292), (851, 763), (117, 130), (166, 251), (251, 475), (783, 744), (263, 220), (742, 712), (1036, 930), (440, 490), (331, 354), (243, 241), (83, 109), (202, 209), (1222, 1056), (165, 178), (451, 541), (250, 222), (337, 290), (409, 395), (286, 324), (481, 383), (172, 302), (657, 645), (389, 422), (329, 142), (408, 435), (741, 724), (1055, 920), (394, 271), (867, 720), (504, 668), (545, 669), (420, 409), (824, 758), (303, 269), (715, 851), (299, 384), (231, 249), (442, 549), (1243, 1092), (302, 309), (449, 444), (276, 293), (140, 103), (666, 707), (901, 839), (479, 472), (582, 564), (255, 206), (816, 880), (67, 155), (321, 300), (312, 331), (359, 263), (552, 541), (908, 999), (173, 401), (180, 297), (346, 329), (1066, 1027), (338, 325), (458, 390), (1084, 932), (696, 707), (187, 192), (390, 371), (310, 262), (582, 541), (348, 374), (309, 303), (388, 447), (360, 348), (992, 970), (233, 164), (1097, 1172), (102, 89), (535, 502), (162, 140), (395, 342), (734, 711), (361, 349), (667, 621), (334, 332), (473, 490), (398, 496), (152, 175), (658, 572), (802, 702), (518, 534), (824, 869), (777, 794), (622, 591), (249, 229), (933, 1041), (150, 143), (241, 261), (213, 199), (345, 318), (411, 412), (183, 176), (414, 454), (695, 616), (81, 128), (1015, 972), (385, 390), (732, 763), (233, 262), (796, 784), (289, 193), (288, 314), (335, 309), (695, 701), (342, 205), (666, 674), (732, 619), (605, 664), (402, 335), (394, 480), (501, 463), (551, 580), (577, 681), (271, 266), (1155, 1103), (515, 626), (234, 235), (528, 416), (971, 1022), (285, 200), (397, 378), (275, 272), (425, 445), (356, 345), (340, 337), (365, 430), (117, 185), (802, 813), (636, 664), (613, 617), (632, 630), (184, 211), (369, 256), (215, 198), (455, 445), (346, 309), (233, 252), (518, 501), (603, 688), (1491, 1565), (544, 373), (737, 688), (273, 324), (413, 484), (599, 345), (625, 483), (48, 62), (1201, 1173), (207, 235), (353, 289), (592, 571), (251, 278), (490, 523), (163, 165), (602, 621), (220, 290), (338, 282), (423, 469), (714, 718), (166, 175), (1025, 1068), (245, 239), (430, 401), (157, 126), (363, 460), (160, 131), (340, 327), (841, 758), (400, 378), (261, 183), (126, 138), (939, 921), (532, 533), (712, 729), (887, 730), (469, 333), (261, 304), (113, 177), (420, 477), (193, 169), (305, 347), (56, 51), (764, 632), (767, 557), (212, 304), (281, 254), (422, 379), (342, 270), (385, 491), (219, 199), (872, 844), (1101, 1341), (789, 846), (223, 169), (403, 365), (363, 329), (661, 660), (473, 460), (665, 630), (125, 128), (591, 601), (742, 770), (468, 467), (441, 513), (747, 705), (212, 281), (758, 714), (524, 547), (1178, 1157), (804, 830), (756, 790), (329, 308), (796, 597), (258, 284), (218, 211), (310, 294), (117, 165), (1130, 1116), (843, 794), (136, 178), (422, 392), (454, 424), (418, 507), (295, 287), (369, 236), (816, 925), (281, 352), (694, 670), (244, 241), (331, 209), (553, 587), (393, 306), (124, 181), (529, 495), (406, 653), (513, 487), (819, 679), (351, 345), (810, 630), (395, 351), (355, 315), (1061, 1115), (272, 317), (431, 453), (1088, 988), (800, 701), (206, 191), (604, 646), (471, 647), (199, 188), (371, 380), (217, 322), (330, 528), (290, 455), (134, 324), (594, 717), (80, 87), (866, 996), (113, 121), (371, 416), (1250, 1287), (921, 968), (162, 162), (202, 198), (671, 942), (512, 540), (752, 787), (128, 285), (408, 568), (607, 548), (367, 387), (526, 560), (387, 365), (678, 837), (651, 591), (649, 630), (267, 336), (536, 344), (408, 424), (139, 150), (387, 401), (380, 362), (371, 393), (372, 358), (1252, 1045), (1625, 1556), (1141, 1357), (402, 380), (134, 157), (154, 135), (232, 234), (119, 177), (524, 491), (231, 238), (1071, 889), (336, 291), (277, 205), (568, 534), (642, 483), (574, 613), (581, 509), (567, 574), (425, 490), (641, 639), (589, 220), (213, 198), (372, 371), (799, 816), (1078, 1171), (831, 885), (392, 349), (215, 387), (722, 749), (132, 389), (551, 458), (425, 382), (416, 413), (336, 533), (1037, 989), (716, 674), (176, 172), (276, 259), (348, 278), (227, 217), (144, 219), (379, 351), (398, 364), (557, 537), (171, 93), (801, 1163), (257, 245), (470, 389), (316, 331), (335, 344), (268, 254), (408, 414), (507, 536), (793, 750), (1179, 1194), (170, 213), (290, 278), (287, 389), (1101, 902), (640, 656), (905, 847), (136, 256), (428, 364), (613, 675), (326, 353), (453, 457), (345, 366), (179, 154), (366, 538), (223, 260), (176, 185), (316, 308), (128, 108), (307, 339), (188, 159), (300, 300), (551, 556), (256, 293), (876, 761), (540, 546), (404, 393), (424, 371), (189, 239), (481, 496), (667, 623), (110, 180), (135, 124), (563, 687), (245, 261), (316, 321), (201, 191), (315, 176), (260, 240), (339, 304), (993, 914), (857, 904), (512, 461), (392, 545), (722, 716), (395, 321), (282, 264), (573, 592), (810, 950), (164, 164), (610, 596), (796, 786), (208, 207), (266, 297), (531, 488), (599, 622), (312, 300), (632, 619), (378, 245), (310, 339), (925, 792), (203, 213), (556, 517), (461, 508), (468, 404), (493, 726), (267, 234), (383, 445), (164, 141), (836, 799), (221, 303), (352, 457), (485, 578), (1059, 993), (858, 823), (297, 298), (683, 742), (437, 421), (388, 416), (201, 181), (220, 194), (400, 390), (485, 614), (783, 945), (298, 342), (998, 1019), (712, 741), (186, 286), (351, 390), (1657, 1594), (785, 731), (884, 853), (954, 1177), (1003, 953), (255, 273), (500, 598), (210, 121), (390, 317), (579, 253), (316, 288), (253, 348), (201, 158), (189, 183), (795, 896), (282, 231), (342, 282), (390, 438), (991, 956), (386, 324), (625, 606), (472, 513), (932, 906), (225, 227), (647, 365), (241, 351), (923, 794), (214, 217), (913, 749), (1277, 1291), (409, 429), (340, 329), (415, 243), (333, 290), (258, 296), (259, 261), (350, 379), (351, 344), (743, 719), (375, 472), (574, 681), (285, 398), (104, 94), (890, 774), (228, 129), (754, 733), (93, 84), (137, 127), (484, 500), (197, 141), (96, 95), (452, 776), (166, 190), (136, 167), (528, 627), (381, 199), (751, 821), (217, 213), (208, 164), (302, 320), (698, 702), (497, 532), (651, 590), (173, 291), (298, 322), (438, 482), (1023, 992), (522, 481), (621, 603), (301, 333), (240, 237), (504, 692), (383, 402), (110, 127), (375, 547), (1329, 1183), (447, 423), (706, 683), (246, 253), (573, 382), (527, 415), (318, 278), (442, 344), (176, 194), (482, 529), (474, 525), (385, 447), (445, 498), (574, 648), (274, 207), (292, 261), (497, 401), (475, 462), (434, 610), (706, 660), (1022, 1045), (568, 546), (535, 369), (816, 796), (335, 343), (520, 505), (467, 499), (706, 781), (485, 404), (692, 617), (442, 442), (496, 562), (557, 392), (482, 398), (320, 336), (419, 458), (1280, 1052), (616, 743), (503, 457), (154, 160), (434, 443), (639, 583), (832, 861), (604, 625), (231, 263), (510, 618), (124, 137), (418, 355), (1034, 1112), (106, 119), (286, 315), (180, 154), (218, 180), (657, 636), (995, 1040), (260, 262), (139, 152), (499, 544), (320, 313), (291, 286), (360, 385), (253, 259), (352, 381), (651, 714), (485, 502), (464, 479), (448, 763), (416, 402), (605, 567), (314, 354), (453, 469), (345, 378), (147, 97), (451, 774), (605, 603), (343, 454), (457, 439), (1510, 1612), (235, 246), (466, 524), (180, 167), (649, 645), (669, 852), (361, 327), (853, 789), (283, 264), (882, 852), (414, 455), (859, 985), (786, 735), (812, 873), (163, 235), (300, 469), (315, 332), (375, 383), (316, 297), (447, 488), (688, 614), (815, 798), (641, 353), (378, 388), (280, 231), (338, 352), (245, 273), (250, 239), (422, 351), (488, 525), (300, 325), (460, 463), (534, 412), (892, 874), (606, 517), (505, 614), (277, 341), (180, 265), (98, 375), (452, 458), (632, 654), (364, 345), (237, 161), (650, 708), (994, 1043), (274, 308), (247, 211), (344, 372), (329, 509), (196, 245), (136, 114), (415, 432), (601, 559), (1088, 1055), (507, 515), (880, 797), (585, 700), (266, 309), (579, 540), (490, 462), (278, 283), (150, 134), (176, 272), (1010, 992), (175, 307), (281, 288), (861, 783), (591, 370), (473, 494), (632, 667), (758, 663), (176, 164), (208, 196), (848, 822), (592, 487), (768, 798), (981, 942), (320, 293), (207, 236), (599, 611), (352, 325), (245, 528), (249, 498), (329, 378), (216, 321), (782, 732), (342, 317), (253, 239), (489, 336), (240, 269), (364, 335), (203, 238), (883, 900), (263, 289), (443, 485), (183, 180), (494, 530), (710, 685), (108, 122), (356, 336), (396, 409), (228, 187), (514, 401), (1000, 932), (325, 385), (317, 381), (358, 382), (1017, 1021), (611, 598), (350, 414), (1138, 1167), (763, 732), (363, 353), (293, 288), (240, 282), (133, 156), (159, 294), (619, 687), (296, 299), (643, 672), (648, 601), (1195, 1148), (226, 240), (536, 545), (690, 603), (481, 609), (472, 417), (792, 736), (322, 329), (1418, 1314), (517, 653), (209, 308), (552, 610), (226, 217), (177, 175), (444, 439), (831, 1639), (229, 222), (482, 551), (120, 86), (174, 206), (514, 620), (400, 369), (446, 485), (838, 860), (298, 321), (651, 625), (1090, 1081), (733, 843), (852, 880), (291, 318), (1110, 1175), (545, 463), (163, 169), (605, 514), (455, 426), (771, 811), (289, 393), (182, 267), (834, 867), (325, 352), (159, 140), (576, 608), (360, 538), (336, 446), (209, 262), (323, 247), (228, 275), (234, 206), (233, 210), (291, 331), (324, 328), (145, 97), (443, 465), (518, 495), (423, 486), (245, 220), (610, 578), (496, 476), (114, 145), (1029, 939), (673, 517), (817, 1056), (178, 166), (413, 298), (251, 236), (227, 287), (527, 548), (432, 576), (442, 477), (602, 615), (314, 291), (273, 259), (592, 650), (765, 721), (84, 100), (407, 375), (335, 355), (327, 351), (625, 719), (76, 131), (256, 327), (343, 332), (1023, 994), (213, 222), (686, 405), (609, 487), (261, 298), (972, 1033), (262, 379), (84, 113), (899, 1079), (668, 658), (430, 457), (188, 206), (120, 151), (328, 329), (338, 230), (516, 645), (243, 221), (536, 623), (316, 211), (789, 660), (1146, 1306), (412, 444), (224, 244), (217, 205), (562, 617), (915, 921), (599, 535), (585, 637), (406, 369), (411, 484), (147, 145), (765, 423), (483, 445), (641, 653), (494, 454), (329, 423), (541, 571), (373, 349), (346, 332), (841, 454), (658, 598), (316, 489), (1368, 465), (523, 373), (276, 273), (375, 395), (847, 879), (866, 892), (294, 321), (139, 118), (307, 376), (601, 594), (407, 463), (319, 350), (221, 193), (213, 189), (963, 946), (384, 336), (563, 567), (376, 332), (333, 370), (834, 801), (752, 768), (618, 539), (978, 930), (497, 514), (504, 373), (117, 113), (794, 886), (806, 860), (185, 247), (419, 414), (232, 179), (291, 265), (683, 789), (682, 644), (541, 705), (242, 229), (594, 531), (626, 520), (675, 641), (621, 670), (194, 453), (296, 321), (440, 365), (594, 423), (150, 123), (208, 244), (522, 669), (727, 809), (301, 292), (500, 501), (182, 191), (242, 242), (567, 447), (634, 702), (555, 558), (306, 262), (1067, 998), (245, 252), (315, 347), (1050, 945), (488, 504), (874, 948), (467, 481), (220, 195), (380, 333), (291, 484), (291, 255), (90, 85), (303, 229), (369, 403), (436, 493), (342, 306), (794, 732), (640, 637), (94, 91), (354, 316), (478, 611), (200, 258), (190, 293), (696, 690), (110, 184), (421, 571), (362, 256), (327, 298), (378, 380), (365, 410), (576, 630), (111, 121), (1144, 1087), (163, 168), (454, 640), (142, 145), (569, 590), (683, 612), (962, 930), (362, 377), (281, 303), (957, 1080), (363, 378), (1155, 1181), (407, 384), (1092, 1161), (694, 742), (1223, 1092), (547, 580), (921, 870), (841, 1026), (1254, 441), (674, 620), (481, 454), (452, 427), (398, 456), (292, 295), (391, 417), (231, 199), (536, 426), (132, 193), (467, 412), (472, 527), (557, 485), (434, 500), (899, 859), (397, 469), (231, 320), (357, 396), (1003, 1065), (309, 276), (528, 543), (488, 507), (335, 377), (340, 343), (358, 397), (399, 398), (390, 429), (163, 158), (336, 229), (234, 447), (253, 460), (414, 414), (1179, 1263), (247, 157), (903, 870), (355, 364), (147, 298), (684, 768), (463, 720), (524, 550), (997, 999), (609, 774), (653, 780), (565, 667), (446, 487), (258, 287), (369, 383), (188, 457), (594, 730), (814, 770), (328, 351), (452, 417), (131, 331), (236, 384), (410, 420), (169, 214), (489, 570), (321, 348), (253, 293), (758, 874), (273, 271), (339, 216), (244, 244), (612, 640), (222, 305), (256, 218), (342, 407), (389, 339), (195, 208)}\n"
     ]
    }
   ],
   "source": [
    "# (確認) 全画像サイズのチェック → ばらついているのが明らか\n",
    "from PIL import Image\n",
    "\n",
    "image_sizes = list()\n",
    "for path in X:\n",
    "    im = Image.open(path)\n",
    "    image_sizes.append(im.size)\n",
    "    im.close()\n",
    "    \n",
    "print(set(image_sizes))"
   ]
  },
  {
   "cell_type": "code",
   "execution_count": 27,
   "id": "00dc1575",
   "metadata": {
    "scrolled": true
   },
   "outputs": [
    {
     "data": {
      "text/plain": [
       "Counter({2: 1403, 1: 477, 0: 327})"
      ]
     },
     "execution_count": 27,
     "metadata": {},
     "output_type": "execute_result"
    }
   ],
   "source": [
    "# (確認) 各クラスのサンプル数の確認\n",
    "import collections\n",
    "collections.Counter(y)"
   ]
  },
  {
   "cell_type": "markdown",
   "id": "e9acc959",
   "metadata": {},
   "source": [
    "(メモ) negative / positive sample 数は，Kaggle のページにある説明と同じ数値となる。\n",
    "```\n",
    "total: neg:198738, pos:78786\n",
    "```"
   ]
  },
  {
   "cell_type": "code",
   "execution_count": 7,
   "id": "4462c714",
   "metadata": {
    "scrolled": true
   },
   "outputs": [
    {
     "name": "stderr",
     "output_type": "stream",
     "text": [
      "/home/muto/anaconda3/lib/python3.8/site-packages/scipy/__init__.py:138: UserWarning: A NumPy version >=1.16.5 and <1.23.0 is required for this version of SciPy (detected version 1.23.1)\n",
      "  warnings.warn(f\"A NumPy version >={np_minversion} and <{np_maxversion} is required for this version of \"\n"
     ]
    }
   ],
   "source": [
    "# 学習／テストへのデータセット分割\n",
    "from sklearn.model_selection import train_test_split\n",
    "X_train, X_test, y_train, y_test = train_test_split(X, y, test_size=0.2)"
   ]
  },
  {
   "cell_type": "code",
   "execution_count": 11,
   "id": "ff6aa594",
   "metadata": {},
   "outputs": [
    {
     "name": "stdout",
     "output_type": "stream",
     "text": [
      "torch.Size([3, 128, 128]) 2\n",
      "<class 'torch.Tensor'>\n",
      "<class 'int'>\n"
     ]
    }
   ],
   "source": [
    "# Dataset クラスの定義\n",
    "\n",
    "import numpy as np\n",
    "from PIL import Image\n",
    "from pathlib import Path\n",
    "import torch\n",
    "# import torch.utils.data as data\n",
    "from torchvision import transforms\n",
    "\n",
    "# Transformer の定義\n",
    "transform = transforms.Compose([\n",
    "    transforms.Resize((128, 128)),\n",
    "    # transforms.CenterCrop(100),\n",
    "    # transforms.Grayscale(num_output_channels=3), # ResNet 等に喰わせるため，あえて３チャネル\n",
    "    transforms.ToTensor(),\n",
    "    # transforms.Normalize(mean=[0.485, 0.456, 0.406], std=[0.229, 0.224, 0.225])\n",
    "])\n",
    "\n",
    "# Dataset : データソースから1個ずつデータを取り出すクラス\n",
    "# 実装が必要なメソッドは__getitem__と__len__の2つ\n",
    "# https://ohke.hateblo.jp/entry/2019/12/28/230000\n",
    "\n",
    "# (メモ) このデータセットで transform=None はあり得ない！！\n",
    "class MyDataset(torch.utils.data.Dataset):\n",
    "    def __init__(self, image_paths, labels, transform=None): #, input_size):\n",
    "        super().__init__()\n",
    "        \n",
    "        self.transform = transform\n",
    "        self.image_paths = image_paths\n",
    "        self.labels = labels\n",
    "        self.len = len(self.image_paths)\n",
    "        \n",
    "    def __len__(self):\n",
    "        return self.len\n",
    "    \n",
    "    def __getitem__(self, index):\n",
    "        image_path = self.image_paths[index]\n",
    "        label = self.labels[index]\n",
    "        \n",
    "        # 入力\n",
    "        image = Image.open(image_path)\n",
    "        \n",
    "        # covert RGBA to RGB\n",
    "        # Oxford-III Pet Dataset に少数ながら 'RGBA' が含まれるため，\n",
    "        # これを RGB へ変換する\n",
    "        if image.mode == 'RGBA':\n",
    "            image = image.convert('RGB')\n",
    "        \n",
    "        '''\n",
    "        if self.transform:\n",
    "            image = self.transform(image_array)\n",
    "        else:\n",
    "            image = torch.Tensor(np.transpose(image_array, (2, 0, 1)))/255  # for 0~1 scaling\n",
    "        '''\n",
    "        if self.transform:\n",
    "            image = self.transform(image)\n",
    "        else:\n",
    "            image = np.asarray(image)\n",
    "            image = torch.from_numpy(image)\n",
    "                \n",
    "        return image, label\n",
    "\n",
    "train_dataset = MyDataset(X_train, y_train, transform=transform) #, (224, 224))\n",
    "test_dataset = MyDataset(X_test, y_test, transform=transform) #, (224, 224))\n",
    "\n",
    "# 動作チェック\n",
    "image, label = train_dataset[0]\n",
    "print(image.size(), label)  # torch.Size([3, 256, 256]) 1\n",
    "print(type(image))\n",
    "print(type(label))"
   ]
  },
  {
   "cell_type": "code",
   "execution_count": 12,
   "id": "3d05f35a",
   "metadata": {},
   "outputs": [
    {
     "name": "stdout",
     "output_type": "stream",
     "text": [
      "torch.Size([16, 3, 128, 128])\n",
      "torch.Size([16])\n"
     ]
    }
   ],
   "source": [
    "# DataLoader の定義\n",
    "\n",
    "BATCH_SIZE = 16 # 32 # 64 # 128 # 16\n",
    "\n",
    "trainloader = torch.utils.data.DataLoader(\n",
    "    train_dataset, batch_size=BATCH_SIZE, shuffle=True,\n",
    "    num_workers=4, drop_last=True\n",
    ")\n",
    "\n",
    "testloader = torch.utils.data.DataLoader(\n",
    "    test_dataset, batch_size=BATCH_SIZE, shuffle=False,\n",
    "    num_workers=4, drop_last=True\n",
    ")\n",
    "\n",
    "# 動作チェック\n",
    "images, labels = next(iter(trainloader))\n",
    "print(images.size())  # torch.Size([16, 3, 224, 224])\n",
    "print(labels.size())  # torch.Size([16])"
   ]
  },
  {
   "cell_type": "code",
   "execution_count": 19,
   "id": "85ab279e",
   "metadata": {},
   "outputs": [
    {
     "name": "stdout",
     "output_type": "stream",
     "text": [
      "Net(\n",
      "  (conv1): Conv2d(3, 32, kernel_size=(3, 3), stride=(1, 1))\n",
      "  (conv2): Conv2d(32, 64, kernel_size=(3, 3), stride=(1, 1))\n",
      "  (conv3): Conv2d(64, 128, kernel_size=(3, 3), stride=(1, 1))\n",
      "  (bn1): BatchNorm2d(32, eps=1e-05, momentum=0.1, affine=True, track_running_stats=True)\n",
      "  (bn2): BatchNorm2d(64, eps=1e-05, momentum=0.1, affine=True, track_running_stats=True)\n",
      "  (bn3): BatchNorm2d(128, eps=1e-05, momentum=0.1, affine=True, track_running_stats=True)\n",
      "  (pool): MaxPool2d(kernel_size=2, stride=2, padding=0, dilation=1, ceil_mode=False)\n",
      "  (avg): AvgPool2d(kernel_size=4, stride=4, padding=0)\n",
      "  (fc): Linear(in_features=1152, out_features=3, bias=True)\n",
      "  (softmax): Softmax(dim=1)\n",
      ")\n"
     ]
    },
    {
     "name": "stderr",
     "output_type": "stream",
     "text": [
      "device: cuda\n"
     ]
    }
   ],
   "source": [
    "# モデル / optimizer / criterion の定義\n",
    "\n",
    "import torch\n",
    "import torch.optim as optim\n",
    "import torch.nn as nn\n",
    "import torch.nn.functional as F\n",
    "import torchvision.models as models\n",
    "\n",
    "# GPUあれば使う\n",
    "def check_cuda():\n",
    "    return 'cuda' if torch.cuda.is_available() else 'cpu'\n",
    "\n",
    "device = torch.device(check_cuda()) # \"cuda\"\n",
    "\n",
    "import sys\n",
    "print(\"device: {}\".format(device), file=sys.stderr)\n",
    "\n",
    "num_classes = 3 # クラス数\n",
    "\n",
    "class Net(nn.Module):\n",
    "    def __init__(self):\n",
    "        super().__init__()\n",
    "        \n",
    "        self.conv1 = nn.Conv2d(3, 32, kernel_size=3)\n",
    "        self.conv2 = nn.Conv2d(32, 64, kernel_size=3)\n",
    "        self.conv3 = nn.Conv2d(64, 128, kernel_size=3)\n",
    "        self.bn1 = nn.BatchNorm2d(32)\n",
    "        self.bn2 = nn.BatchNorm2d(64)\n",
    "        self.bn3 = nn.BatchNorm2d(128)\n",
    "        self.pool = nn.MaxPool2d(kernel_size=2, stride=2)\n",
    "        self.avg = nn.AvgPool2d(4)\n",
    "        self.fc = nn.Linear(128*3*3, num_classes)\n",
    "        self.softmax = nn.Softmax(dim=1)\n",
    "        \n",
    "    def forward(self, x):\n",
    "        x = self.pool(F.relu(self.bn1(self.conv1(x))))\n",
    "        x = self.pool(F.relu(self.bn2(self.conv2(x))))\n",
    "        x = self.pool(F.relu(self.bn3(self.conv3(x))))\n",
    "        # print(\"before avg:\", x.shape)\n",
    "        x = self.avg(x)\n",
    "        # print(\"before:\", x.shape) # torch.Size([16, 128, 3, 3])\n",
    "        x = x.view(-1, 128*3*3)\n",
    "        # print(\"after:\", x.shape)\n",
    "        x = self.fc(x)\n",
    "        return x\n",
    "\n",
    "net = Net()\n",
    "net = net.to(device)\n",
    "criterion = nn.CrossEntropyLoss()\n",
    "# optimizer = optim.SGD(net.parameters(), lr=0.0001, momentum=0.9, weight_decay=0.005)\n",
    "optimizer = optim.Adam(net.parameters(), lr=0.0001)\n",
    "\n",
    "print(net)"
   ]
  },
  {
   "cell_type": "code",
   "execution_count": 20,
   "id": "4efe4c56",
   "metadata": {
    "scrolled": false
   },
   "outputs": [
    {
     "name": "stdout",
     "output_type": "stream",
     "text": [
      "epoch 1\n"
     ]
    },
    {
     "name": "stderr",
     "output_type": "stream",
     "text": [
      " 50%|█████████████████████                     | 55/110 [00:01<00:01, 46.65it/s]IOStream.flush timed out\n",
      "100%|█████████████████████████████████████████| 110/110 [00:02<00:00, 42.90it/s]\n"
     ]
    },
    {
     "name": "stdout",
     "output_type": "stream",
     "text": [
      "train mean loss=0.2477666596853024, accuracy=0.9017045454545455\n",
      "test  mean loss=0.3147134651425737, accuracy=0.8680555555555556\n",
      "epoch 2\n"
     ]
    },
    {
     "name": "stderr",
     "output_type": "stream",
     "text": [
      "100%|█████████████████████████████████████████| 110/110 [00:02<00:00, 42.55it/s]\n"
     ]
    },
    {
     "name": "stdout",
     "output_type": "stream",
     "text": [
      "train mean loss=0.2453931546751568, accuracy=0.8926136363636363\n",
      "test  mean loss=0.32848922968989586, accuracy=0.8541666666666666\n",
      "epoch 3\n"
     ]
    },
    {
     "name": "stderr",
     "output_type": "stream",
     "text": [
      "100%|█████████████████████████████████████████| 110/110 [00:02<00:00, 45.67it/s]\n"
     ]
    },
    {
     "name": "stdout",
     "output_type": "stream",
     "text": [
      "train mean loss=0.20627587574399564, accuracy=0.9193181818181818\n",
      "test  mean loss=0.2843213191938616, accuracy=0.8842592592592593\n",
      "epoch 4\n"
     ]
    },
    {
     "name": "stderr",
     "output_type": "stream",
     "text": [
      "100%|█████████████████████████████████████████| 110/110 [00:02<00:00, 39.60it/s]\n"
     ]
    },
    {
     "name": "stdout",
     "output_type": "stream",
     "text": [
      "train mean loss=0.19554648173091768, accuracy=0.9204545454545454\n",
      "test  mean loss=0.28229065394509434, accuracy=0.8726851851851852\n",
      "epoch 5\n"
     ]
    },
    {
     "name": "stderr",
     "output_type": "stream",
     "text": [
      "100%|█████████████████████████████████████████| 110/110 [00:02<00:00, 42.89it/s]\n"
     ]
    },
    {
     "name": "stdout",
     "output_type": "stream",
     "text": [
      "train mean loss=0.1845880006089089, accuracy=0.9306818181818182\n",
      "test  mean loss=0.26854429147901576, accuracy=0.8935185185185185\n",
      "epoch 6\n"
     ]
    },
    {
     "name": "stderr",
     "output_type": "stream",
     "text": [
      "100%|█████████████████████████████████████████| 110/110 [00:02<00:00, 42.21it/s]\n"
     ]
    },
    {
     "name": "stdout",
     "output_type": "stream",
     "text": [
      "train mean loss=0.1766531384025012, accuracy=0.9306818181818182\n",
      "test  mean loss=0.2672711203540612, accuracy=0.8726851851851852\n",
      "epoch 7\n"
     ]
    },
    {
     "name": "stderr",
     "output_type": "stream",
     "text": [
      "100%|█████████████████████████████████████████| 110/110 [00:02<00:00, 41.08it/s]\n"
     ]
    },
    {
     "name": "stdout",
     "output_type": "stream",
     "text": [
      "train mean loss=0.18722461463709392, accuracy=0.9210227272727273\n",
      "test  mean loss=0.29326791542148156, accuracy=0.8634259259259259\n",
      "epoch 8\n"
     ]
    },
    {
     "name": "stderr",
     "output_type": "stream",
     "text": [
      "100%|█████████████████████████████████████████| 110/110 [00:02<00:00, 43.55it/s]\n"
     ]
    },
    {
     "name": "stdout",
     "output_type": "stream",
     "text": [
      "train mean loss=0.1784391161064926, accuracy=0.9306818181818182\n",
      "test  mean loss=0.28121079228043017, accuracy=0.8773148148148148\n",
      "epoch 9\n"
     ]
    },
    {
     "name": "stderr",
     "output_type": "stream",
     "text": [
      "100%|█████████████████████████████████████████| 110/110 [00:02<00:00, 41.06it/s]\n"
     ]
    },
    {
     "name": "stdout",
     "output_type": "stream",
     "text": [
      "train mean loss=0.1781061082825107, accuracy=0.9301136363636363\n",
      "test  mean loss=0.2754073258978209, accuracy=0.8726851851851852\n",
      "epoch 10\n"
     ]
    },
    {
     "name": "stderr",
     "output_type": "stream",
     "text": [
      "100%|█████████████████████████████████████████| 110/110 [00:02<00:00, 42.75it/s]\n"
     ]
    },
    {
     "name": "stdout",
     "output_type": "stream",
     "text": [
      "train mean loss=0.1816555001918047, accuracy=0.9181818181818182\n",
      "test  mean loss=0.2938956229934865, accuracy=0.8657407407407407\n",
      "epoch 11\n"
     ]
    },
    {
     "name": "stderr",
     "output_type": "stream",
     "text": [
      "100%|█████████████████████████████████████████| 110/110 [00:02<00:00, 43.09it/s]\n"
     ]
    },
    {
     "name": "stdout",
     "output_type": "stream",
     "text": [
      "train mean loss=0.15006937207311138, accuracy=0.94375\n",
      "test  mean loss=0.2539385282076322, accuracy=0.8935185185185185\n",
      "epoch 12\n"
     ]
    },
    {
     "name": "stderr",
     "output_type": "stream",
     "text": [
      "100%|█████████████████████████████████████████| 110/110 [00:02<00:00, 39.65it/s]\n"
     ]
    },
    {
     "name": "stdout",
     "output_type": "stream",
     "text": [
      "train mean loss=0.16167166930420201, accuracy=0.9323863636363636\n",
      "test  mean loss=0.2744036774020389, accuracy=0.8726851851851852\n",
      "epoch 13\n"
     ]
    },
    {
     "name": "stderr",
     "output_type": "stream",
     "text": [
      "100%|█████████████████████████████████████████| 110/110 [00:02<00:00, 39.73it/s]\n"
     ]
    },
    {
     "name": "stdout",
     "output_type": "stream",
     "text": [
      "train mean loss=0.1508082319082687, accuracy=0.9454545454545454\n",
      "test  mean loss=0.26014367595517257, accuracy=0.8935185185185185\n",
      "epoch 14\n"
     ]
    },
    {
     "name": "stderr",
     "output_type": "stream",
     "text": [
      "100%|█████████████████████████████████████████| 110/110 [00:02<00:00, 42.70it/s]\n"
     ]
    },
    {
     "name": "stdout",
     "output_type": "stream",
     "text": [
      "train mean loss=0.1438511092838417, accuracy=0.9528409090909091\n",
      "test  mean loss=0.25136578460624315, accuracy=0.9166666666666666\n",
      "epoch 15\n"
     ]
    },
    {
     "name": "stderr",
     "output_type": "stream",
     "text": [
      "100%|█████████████████████████████████████████| 110/110 [00:02<00:00, 41.16it/s]\n"
     ]
    },
    {
     "name": "stdout",
     "output_type": "stream",
     "text": [
      "train mean loss=0.13682242881812726, accuracy=0.9443181818181818\n",
      "test  mean loss=0.25533870064834663, accuracy=0.8935185185185185\n",
      "epoch 16\n"
     ]
    },
    {
     "name": "stderr",
     "output_type": "stream",
     "text": [
      "100%|█████████████████████████████████████████| 110/110 [00:02<00:00, 43.36it/s]\n"
     ]
    },
    {
     "name": "stdout",
     "output_type": "stream",
     "text": [
      "train mean loss=0.12879656776152656, accuracy=0.9556818181818182\n",
      "test  mean loss=0.26817531054375937, accuracy=0.9050925925925926\n",
      "epoch 17\n"
     ]
    },
    {
     "name": "stderr",
     "output_type": "stream",
     "text": [
      "100%|█████████████████████████████████████████| 110/110 [00:02<00:00, 43.26it/s]\n"
     ]
    },
    {
     "name": "stdout",
     "output_type": "stream",
     "text": [
      "train mean loss=0.13251109768243416, accuracy=0.9534090909090909\n",
      "test  mean loss=0.25632959995334503, accuracy=0.9004629629629629\n",
      "epoch 18\n"
     ]
    },
    {
     "name": "stderr",
     "output_type": "stream",
     "text": [
      "100%|█████████████████████████████████████████| 110/110 [00:02<00:00, 45.59it/s]\n"
     ]
    },
    {
     "name": "stdout",
     "output_type": "stream",
     "text": [
      "train mean loss=0.1492827722945227, accuracy=0.9375\n",
      "test  mean loss=0.2791564999257817, accuracy=0.8726851851851852\n",
      "epoch 19\n"
     ]
    },
    {
     "name": "stderr",
     "output_type": "stream",
     "text": [
      "100%|█████████████████████████████████████████| 110/110 [00:02<00:00, 42.48it/s]\n"
     ]
    },
    {
     "name": "stdout",
     "output_type": "stream",
     "text": [
      "train mean loss=0.13065100394970297, accuracy=0.9494318181818182\n",
      "test  mean loss=0.2681365601077878, accuracy=0.9143518518518519\n",
      "epoch 20\n"
     ]
    },
    {
     "name": "stderr",
     "output_type": "stream",
     "text": [
      "100%|█████████████████████████████████████████| 110/110 [00:02<00:00, 43.46it/s]\n"
     ]
    },
    {
     "name": "stdout",
     "output_type": "stream",
     "text": [
      "train mean loss=0.12885193563892214, accuracy=0.9505681818181818\n",
      "test  mean loss=0.2678021857371697, accuracy=0.8958333333333334\n",
      "epoch 21\n"
     ]
    },
    {
     "name": "stderr",
     "output_type": "stream",
     "text": [
      "100%|█████████████████████████████████████████| 110/110 [00:02<00:00, 41.77it/s]\n"
     ]
    },
    {
     "name": "stdout",
     "output_type": "stream",
     "text": [
      "train mean loss=0.12908924409417863, accuracy=0.9528409090909091\n",
      "test  mean loss=0.26827582258444566, accuracy=0.8958333333333334\n",
      "epoch 22\n"
     ]
    },
    {
     "name": "stderr",
     "output_type": "stream",
     "text": [
      "100%|█████████████████████████████████████████| 110/110 [00:02<00:00, 41.35it/s]\n"
     ]
    },
    {
     "name": "stdout",
     "output_type": "stream",
     "text": [
      "train mean loss=0.1370653596292474, accuracy=0.9426136363636364\n",
      "test  mean loss=0.27804241164237664, accuracy=0.875\n",
      "epoch 23\n"
     ]
    },
    {
     "name": "stderr",
     "output_type": "stream",
     "text": [
      "100%|█████████████████████████████████████████| 110/110 [00:02<00:00, 42.96it/s]\n"
     ]
    },
    {
     "name": "stdout",
     "output_type": "stream",
     "text": [
      "train mean loss=0.16179248468987328, accuracy=0.9261363636363636\n",
      "test  mean loss=0.3191398459052608, accuracy=0.8587962962962963\n",
      "epoch 24\n"
     ]
    },
    {
     "name": "stderr",
     "output_type": "stream",
     "text": [
      "100%|█████████████████████████████████████████| 110/110 [00:02<00:00, 42.60it/s]\n"
     ]
    },
    {
     "name": "stdout",
     "output_type": "stream",
     "text": [
      "train mean loss=0.1227416353421576, accuracy=0.9511363636363637\n",
      "test  mean loss=0.26734743628027213, accuracy=0.875\n",
      "epoch 25\n"
     ]
    },
    {
     "name": "stderr",
     "output_type": "stream",
     "text": [
      "100%|█████████████████████████████████████████| 110/110 [00:02<00:00, 43.75it/s]\n"
     ]
    },
    {
     "name": "stdout",
     "output_type": "stream",
     "text": [
      "train mean loss=0.10874795071126381, accuracy=0.9630681818181818\n",
      "test  mean loss=0.27034919604456803, accuracy=0.9004629629629629\n",
      "epoch 26\n"
     ]
    },
    {
     "name": "stderr",
     "output_type": "stream",
     "text": [
      "100%|█████████████████████████████████████████| 110/110 [00:02<00:00, 40.75it/s]\n"
     ]
    },
    {
     "name": "stdout",
     "output_type": "stream",
     "text": [
      "train mean loss=0.10163032098464858, accuracy=0.9664772727272727\n",
      "test  mean loss=0.2455856687477811, accuracy=0.9074074074074074\n",
      "epoch 27\n"
     ]
    },
    {
     "name": "stderr",
     "output_type": "stream",
     "text": [
      "100%|█████████████████████████████████████████| 110/110 [00:02<00:00, 43.37it/s]\n"
     ]
    },
    {
     "name": "stdout",
     "output_type": "stream",
     "text": [
      "train mean loss=0.11197108768201076, accuracy=0.9636363636363636\n",
      "test  mean loss=0.2671369931816515, accuracy=0.8842592592592593\n",
      "epoch 28\n"
     ]
    },
    {
     "name": "stderr",
     "output_type": "stream",
     "text": [
      "100%|█████████████████████████████████████████| 110/110 [00:02<00:00, 41.53it/s]\n"
     ]
    },
    {
     "name": "stdout",
     "output_type": "stream",
     "text": [
      "train mean loss=0.10309885046299726, accuracy=0.9579545454545455\n",
      "test  mean loss=0.27397442396679617, accuracy=0.8958333333333334\n",
      "epoch 29\n"
     ]
    },
    {
     "name": "stderr",
     "output_type": "stream",
     "text": [
      "100%|█████████████████████████████████████████| 110/110 [00:02<00:00, 43.97it/s]\n"
     ]
    },
    {
     "name": "stdout",
     "output_type": "stream",
     "text": [
      "train mean loss=0.10283167365590168, accuracy=0.9642045454545455\n",
      "test  mean loss=0.25879595546700834, accuracy=0.8981481481481481\n",
      "epoch 30\n"
     ]
    },
    {
     "name": "stderr",
     "output_type": "stream",
     "text": [
      "100%|█████████████████████████████████████████| 110/110 [00:02<00:00, 45.60it/s]\n"
     ]
    },
    {
     "name": "stdout",
     "output_type": "stream",
     "text": [
      "train mean loss=0.09356318816922542, accuracy=0.9698863636363636\n",
      "test  mean loss=0.267087823395276, accuracy=0.8981481481481481\n"
     ]
    }
   ],
   "source": [
    "from tqdm import tqdm\n",
    "\n",
    "# 学習\n",
    "# https://qiita.com/mathlive/items/8e1f9a8467fff8dfd03c\n",
    "\n",
    "EPOCH = 30\n",
    "\n",
    "train_loss_value=[]      #trainingのlossを保持するlist\n",
    "train_acc_value=[]       #trainingのaccuracyを保持するlist\n",
    "test_loss_value=[]       #tes%MCEPASTEBIN%tのlossを保持するlist\n",
    "test_acc_value=[]        #testのaccuracyを保持するlist \n",
    "\n",
    "for epoch in range(EPOCH):\n",
    "    print('epoch', epoch+1)    #epoch数の出力\n",
    "\n",
    "    # 学習\n",
    "    net.train() # 学習モード\n",
    "    for (inputs, labels) in trainloader: # tqdm(trainloader):\n",
    "        # print(\"inputs\", inputs.shape)\n",
    "        # print(\"labels\", labels.shape)\n",
    "        inputs, labels = inputs.to(device), labels.to(device)\n",
    "        optimizer.zero_grad()\n",
    "        outputs = net(inputs)\n",
    "        #print(predicted)\n",
    "        #print(labels)\n",
    "        loss = criterion(outputs, labels)\n",
    "        loss.backward()\n",
    "        optimizer.step()\n",
    "\n",
    "    #train dataを使ってテストをする(パラメータ更新がないようになっている)\n",
    "    sum_loss = 0.0          #lossの合計\n",
    "    sum_correct = 0         #正解率の合計\n",
    "    sum_total = 0           #dataの数の合計\n",
    "\n",
    "    net.eval() # 評価モード\n",
    "    for (inputs, labels) in trainloader:\n",
    "        inputs, labels = inputs.to(device), labels.to(device)\n",
    "        optimizer.zero_grad()\n",
    "        outputs = net(inputs)\n",
    "        loss = criterion(outputs, labels)\n",
    "        sum_loss += loss.item()                            #lossを足していく\n",
    "        _, predicted = outputs.max(1)                      #出力の最大値の添字(予想位置)を取得\n",
    "        sum_total += labels.size(0)                        #labelの数を足していくことでデータの総和を取る\n",
    "        sum_correct += (predicted == labels).sum().item()  #予想位置と実際の正解を比べ,正解している数だけ足す\n",
    "    print(\"train mean loss={}, accuracy={}\"\n",
    "            .format(sum_loss*BATCH_SIZE/len(trainloader.dataset), float(sum_correct/sum_total)))  #lossとaccuracy出力\n",
    "    train_loss_value.append(sum_loss*BATCH_SIZE/len(trainloader.dataset))  #traindataのlossをグラフ描画のためにlistに保持\n",
    "    train_acc_value.append(float(sum_correct/sum_total))   #traindataのaccuracyをグラフ描画のためにlistに保持\n",
    "\n",
    "    '''\n",
    "    with open(\"/home/muto/Dropbox/20201230.txt\", 'a') as fp:\n",
    "        print('epoch{}'.format(epoch+1), file=fp)\n",
    "        print(\"train  mean loss={}, accuracy={}\"\n",
    "              .format(sum_loss*BATCH_SIZE/len(trainloader.dataset), float(sum_correct/sum_total)), file=fp)\n",
    "    '''\n",
    "        \n",
    "    #test dataを使ってテストをする\n",
    "    sum_loss = 0.0\n",
    "    sum_correct = 0\n",
    "    sum_total = 0\n",
    "\n",
    "    cm_predicted_list = [] # confusion matrix で利用するため予測値を蓄える\n",
    "    cm_true_list = [] # confusion matrix で利用するため真値を蓄える\n",
    "    \n",
    "    net.eval() # 評価モード\n",
    "    for (inputs, labels) in testloader:\n",
    "        inputs, labels = inputs.to(device), labels.to(device)\n",
    "        optimizer.zero_grad()\n",
    "        outputs = net(inputs)\n",
    "        loss = criterion(outputs, labels)\n",
    "        sum_loss += loss.item()\n",
    "        _, predicted = outputs.max(1)\n",
    "        sum_total += labels.size(0)\n",
    "        sum_correct += (predicted == labels).sum().item()\n",
    "        \n",
    "        # confusion matrix のため予測値／真値を蓄える\n",
    "        cm_predicted_list += predicted.tolist()\n",
    "        cm_true_list += labels.tolist()\n",
    "    print(\"test  mean loss={}, accuracy={}\"\n",
    "            .format(sum_loss*BATCH_SIZE/len(testloader.dataset), float(sum_correct/sum_total)))\n",
    "    test_loss_value.append(sum_loss*BATCH_SIZE/len(testloader.dataset))\n",
    "    test_acc_value.append(float(sum_correct/sum_total))\n",
    "\n",
    "    '''\n",
    "    with open(\"/home/muto/Dropbox/20201230.txt\", 'a') as fp:\n",
    "        print(\"test  mean loss={}, accuracy={}\"\n",
    "              .format(sum_loss*BATCH_SIZE/len(testloader.dataset), float(sum_correct/sum_total)), file=fp)\n",
    "    '''"
   ]
  },
  {
   "cell_type": "code",
   "execution_count": 21,
   "id": "604855d9",
   "metadata": {},
   "outputs": [
    {
     "data": {
      "image/png": "[encoded data removed]",
      "text/plain": [
       "<Figure size 300x300 with 1 Axes>"
      ]
     },
     "metadata": {},
     "output_type": "display_data"
    }
   ],
   "source": [
    "# 損失の可視化\n",
    "import matplotlib.pyplot as plt\n",
    "\n",
    "plt.figure(figsize=(3, 3))\n",
    "\n",
    "plt.plot(range(EPOCH), train_loss_value)\n",
    "plt.plot(range(EPOCH), test_loss_value, c='#00ff00')\n",
    "plt.xlim(0, EPOCH)\n",
    "# plt.ylim(0, 2.5)\n",
    "plt.xlabel('EPOCH')\n",
    "plt.ylabel('LOSS')\n",
    "plt.legend(['train loss', 'test loss'])\n",
    "plt.title('loss')\n",
    "plt.savefig(\"loss_image.png\")"
   ]
  },
  {
   "cell_type": "code",
   "execution_count": 22,
   "id": "d062a2c0",
   "metadata": {},
   "outputs": [
    {
     "data": {
      "image/png": "[encoded data removed]",
      "text/plain": [
       "<Figure size 300x300 with 1 Axes>"
      ]
     },
     "metadata": {},
     "output_type": "display_data"
    }
   ],
   "source": [
    "# 正解率の可視化\n",
    "import matplotlib.pyplot as plt\n",
    "\n",
    "plt.figure(figsize=(3, 3))\n",
    "\n",
    "plt.plot(range(EPOCH), train_acc_value)\n",
    "plt.plot(range(EPOCH), test_acc_value, c='#00ff00')\n",
    "plt.xlim(0, EPOCH)\n",
    "# plt.ylim(0, 1)\n",
    "plt.xlabel('EPOCH')\n",
    "plt.ylabel('ACCURACY')\n",
    "plt.legend(['train acc', 'test acc'])\n",
    "plt.title('accuracy')\n",
    "plt.savefig(\"accuracy_image.png\")"
   ]
  },
  {
   "cell_type": "code",
   "execution_count": 23,
   "id": "c1f9a8bf",
   "metadata": {},
   "outputs": [
    {
     "data": {
      "text/plain": [
       "<sklearn.metrics._plot.confusion_matrix.ConfusionMatrixDisplay at 0x7f138bb9cd60>"
      ]
     },
     "execution_count": 23,
     "metadata": {},
     "output_type": "execute_result"
    },
    {
     "data": {
      "image/png": "[encoded data removed]",
      "text/plain": [
       "<Figure size 400x400 with 2 Axes>"
      ]
     },
     "metadata": {},
     "output_type": "display_data"
    }
   ],
   "source": [
    "# confusion matrix\n",
    "from sklearn.metrics import confusion_matrix, ConfusionMatrixDisplay\n",
    "\n",
    "cm = confusion_matrix(cm_true_list, cm_predicted_list)\n",
    "cmp = ConfusionMatrixDisplay(cm, display_labels=['b_fully_ripened', 'b_half_ripened', 'b_green'])\n",
    "\n",
    "fig, ax = plt.subplots(figsize=(4,4))\n",
    "ax.set_title('Invasive Ductal Carcinoma')\n",
    "cmp.plot(cmap=plt.cm.Blues, xticks_rotation='vertical', ax=ax)"
   ]
  },
  {
   "cell_type": "code",
   "execution_count": null,
   "id": "57a59c8a",
   "metadata": {},
   "outputs": [],
   "source": []
  }
 ],
 "metadata": {
  "kernelspec": {
   "display_name": "Python 3 (ipykernel)",
   "language": "python",
   "name": "python3"
  },
  "language_info": {
   "codemirror_mode": {
    "name": "ipython",
    "version": 3
   },
   "file_extension": ".py",
   "mimetype": "text/x-python",
   "name": "python",
   "nbconvert_exporter": "python",
   "pygments_lexer": "ipython3",
   "version": "3.8.13"
  }
 },
 "nbformat": 4,
 "nbformat_minor": 5
}
